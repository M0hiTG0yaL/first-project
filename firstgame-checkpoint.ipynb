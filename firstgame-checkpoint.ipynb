{
 "cells": [
  {
   "cell_type": "code",
   "execution_count": 5,
   "id": "6c7a0ebc-3dd9-4138-9837-b7123c8268e4",
   "metadata": {},
   "outputs": [],
   "source": [
    "import random\n",
    "value = random.randint(0,100)"
   ]
  },
  {
   "cell_type": "code",
   "execution_count": 6,
   "id": "98826132-1ad0-4e87-a54f-ab2fa1188d6f",
   "metadata": {},
   "outputs": [
    {
     "name": "stdout",
     "output_type": "stream",
     "text": [
      "welcome to guessing game\n",
      "the rules of the game are:\n",
      "1: if your guess is near the number result can be warm and warmer base on how close ypur guess was \n",
      "2:if your is further and very further then result will be cold and colder \n",
      "if you make right guess then result will be coreect\n"
     ]
    }
   ],
   "source": [
    "print('welcome to guessing game')\n",
    "print('the rules of the game are:')\n",
    "print('1: if your guess is near the number result can be warm and warmer base on how close ypur guess was ')\n",
    "print('2:if your is further and very further then result will be cold and colder ')\n",
    "print('if you make right guess then result will be coreect')\n"
   ]
  },
  {
   "cell_type": "code",
   "execution_count": 16,
   "id": "4657a458-d649-4d62-b5ac-9607955f3af1",
   "metadata": {},
   "outputs": [],
   "source": [
    "guesses= [0]"
   ]
  },
  {
   "cell_type": "code",
   "execution_count": 24,
   "id": "4d8a8985-4039-4eef-a1e6-87ee42821083",
   "metadata": {},
   "outputs": [
    {
     "name": "stdin",
     "output_type": "stream",
     "text": [
      "enter the guess value: 70\n"
     ]
    },
    {
     "name": "stdout",
     "output_type": "stream",
     "text": [
      "warmer\n"
     ]
    }
   ],
   "source": [
    "while True:\n",
    "    guess = int(input('enter the guess value:'))\n",
    "    if guess<1 and guess>100:\n",
    "        print('out of bounds, please try again ')\n",
    "        continue\n",
    "    break\n",
    "    if guess == value:\n",
    "        print('your guess was true and you guessed it in len(guesses) trys')\n",
    "        break\n",
    "        \n",
    "guesses.append(guess)\n",
    "if guesses[-2]:\n",
    "    if abs(value-guess)<abs(value-guesses[-2]):\n",
    "            print('warmer')\n",
    "    else:\n",
    "            print('colder')\n",
    "        \n",
    "else:\n",
    "    if abs(value-guess)<=10:\n",
    "       print('warm')\n",
    "    else:\n",
    "       print('cold')\n",
    "\n",
    "\n",
    "            \n",
    "        \n",
    "\n"
   ]
  },
  {
   "cell_type": "code",
   "execution_count": null,
   "id": "0aa56833-fb4a-44e9-9d09-dc7c5cf7a860",
   "metadata": {},
   "outputs": [],
   "source": [
    "\n",
    "    "
   ]
  }
 ],
 "metadata": {
  "kernelspec": {
   "display_name": "Python 3 (ipykernel)",
   "language": "python",
   "name": "python3"
  },
  "language_info": {
   "codemirror_mode": {
    "name": "ipython",
    "version": 3
   },
   "file_extension": ".py",
   "mimetype": "text/x-python",
   "name": "python",
   "nbconvert_exporter": "python",
   "pygments_lexer": "ipython3",
   "version": "3.10.5"
  }
 },
 "nbformat": 4,
 "nbformat_minor": 5
}
